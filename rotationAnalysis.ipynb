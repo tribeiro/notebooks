{
 "cells": [
  {
   "cell_type": "code",
   "execution_count": 1,
   "metadata": {
    "collapsed": true
   },
   "outputs": [],
   "source": [
    "import sys, os\n",
    "import numpy as np\n",
    "import numpy.ma as ma\n",
    "import matplotlib.pyplot as plt\n",
    "from astropy.io import ascii\n",
    "%matplotlib inline"
   ]
  },
  {
   "cell_type": "code",
   "execution_count": 2,
   "metadata": {
    "collapsed": true
   },
   "outputs": [],
   "source": [
    "import lsst.sims.maf.db as db\n",
    "import lsst.sims.maf.plots as plots\n",
    "import lsst.sims.maf.metrics as metrics\n",
    "import lsst.sims.maf.slicers as slicers\n",
    "import lsst.sims.maf.stackers as stackers\n",
    "import lsst.sims.maf.metricBundles as mb\n",
    "from lsst.sims.utils import Site\n",
    "from lsst.sims.utils import calcLmstLast"
   ]
  },
  {
   "cell_type": "code",
   "execution_count": 34,
   "metadata": {
    "collapsed": true
   },
   "outputs": [],
   "source": [
    "o1 = db.OpsimDatabase(os.path.expanduser('~/Data/db/colossus_2291.db'))\n",
    "o2 = db.OpsimDatabase(os.path.expanduser('~/Data/db/colossus_2278.db'))"
   ]
  },
  {
   "cell_type": "code",
   "execution_count": 35,
   "metadata": {},
   "outputs": [],
   "source": [
    "d1 = o1.query_columns('SlewActivities', colnames=['activityDelay'], \n",
    "                    sqlconstraint='activity = \"telrot\"')\n",
    "d2 = o2.query_columns('SlewActivities', colnames=['activityDelay'], \n",
    "                    sqlconstraint='activity = \"telrot\" and SlewHistory_slewCount < 4325')"
   ]
  },
  {
   "cell_type": "code",
   "execution_count": 22,
   "metadata": {},
   "outputs": [
    {
     "name": "stdout",
     "output_type": "stream",
     "text": [
      "[( 2.57826766,) ( 1.73581452,) ( 1.29106276,) ..., ( 1.50061348,)\n",
      " ( 1.226832  ,) ( 4.47343781,)]\n"
     ]
    }
   ],
   "source": [
    "print(d)"
   ]
  },
  {
   "cell_type": "code",
   "execution_count": 36,
   "metadata": {},
   "outputs": [],
   "source": [
    "data1 = np.array([i[0] for i in d1])\n",
    "data2 = np.array([i[0] for i in d2])"
   ]
  },
  {
   "cell_type": "code",
   "execution_count": 37,
   "metadata": {},
   "outputs": [
    {
     "data": {
      "text/plain": [
       "<matplotlib.text.Text at 0x14ee77080>"
      ]
     },
     "execution_count": 37,
     "metadata": {},
     "output_type": "execute_result"
    },
    {
     "data": {
      "image/png": "[encoded data removed]",
      "text/plain": [
       "<matplotlib.figure.Figure at 0x14f015be0>"
      ]
     },
     "metadata": {},
     "output_type": "display_data"
    }
   ],
   "source": [
    "plt.hist(data1,bins=np.arange(0,60))\n",
    "plt.hist(data2,bins=np.arange(0,60))\n",
    "plt.title('Histogram of all rotation angle slew times')\n",
    "plt.xlabel('time [s]')"
   ]
  },
  {
   "cell_type": "code",
   "execution_count": 58,
   "metadata": {
    "collapsed": true
   },
   "outputs": [],
   "source": [
    "d1 = o1.query_columns('SlewActivities', colnames=['activityDelay'], \n",
    "                    sqlconstraint='activity = \"telrot\" and inCriticalPath == \"True\"')\n",
    "\n",
    "d2 = o.query_columns('SlewActivities', colnames=['activityDelay'], \n",
    "                    sqlconstraint='activity = \"telrot\" and inCriticalPath = \"True\" and SlewHistory_slewCount < 4325')"
   ]
  },
  {
   "cell_type": "code",
   "execution_count": 54,
   "metadata": {},
   "outputs": [
    {
     "name": "stdout",
     "output_type": "stream",
     "text": [
      "[( 46.68722947,) ( 45.75248451,) ( 45.55896412,) ( 46.7106206 ,)\n",
      " ( 49.54116933,) ( 41.30939289,) ( 44.52248721,) ( 53.95606974,)\n",
      " ( 39.27188065,) ( 46.06350929,) (  5.17924749,) (  4.885936  ,)\n",
      " (  5.21338658,) (  5.5133414 ,) (  5.7585127 ,) (  4.90082643,)\n",
      " (  5.62656371,) (  5.36965659,) (  7.59938037,) (  6.79078858,)\n",
      " ( 46.25242489,) ( 41.93221131,) (  6.16944401,) (  5.62311249,)\n",
      " (  5.51047067,) (  6.19620826,) (  5.60650594,) (  4.85677412,)\n",
      " (  5.67231722,) (  6.3874469 ,) (  4.83054736,) ( 42.99872035,)]\n"
     ]
    }
   ],
   "source": [
    "print(d)"
   ]
  },
  {
   "cell_type": "code",
   "execution_count": 59,
   "metadata": {},
   "outputs": [],
   "source": [
    "data1 = np.array([i[0] for i in d1])\n",
    "data2 = np.array([i[0] for i in d2])"
   ]
  },
  {
   "cell_type": "code",
   "execution_count": 60,
   "metadata": {},
   "outputs": [
    {
     "data": {
      "text/plain": [
       "<matplotlib.text.Text at 0x14fd8e5f8>"
      ]
     },
     "execution_count": 60,
     "metadata": {},
     "output_type": "execute_result"
    },
    {
     "data": {
      "image/png": "[encoded data removed]",
      "text/plain": [
       "<matplotlib.figure.Figure at 0x14fef62e8>"
      ]
     },
     "metadata": {},
     "output_type": "display_data"
    }
   ],
   "source": [
    "plt.hist(data1, bins=np.arange(4,55))\n",
    "plt.hist(data2)#, bins=np.arange(4,55))\n",
    "plt.title('Histogram of rotation angle slew times in critical path')\n",
    "plt.xlabel('time [s]')"
   ]
  },
  {
   "cell_type": "code",
   "execution_count": null,
   "metadata": {
    "collapsed": true
   },
   "outputs": [],
   "source": []
  }
 ],
 "metadata": {
  "kernelspec": {
   "display_name": "Python 3",
   "language": "python",
   "name": "python3"
  },
  "language_info": {
   "codemirror_mode": {
    "name": "ipython",
    "version": 3
   },
   "file_extension": ".py",
   "mimetype": "text/x-python",
   "name": "python",
   "nbconvert_exporter": "python",
   "pygments_lexer": "ipython3",
   "version": "3.6.2"
  }
 },
 "nbformat": 4,
 "nbformat_minor": 2
}
