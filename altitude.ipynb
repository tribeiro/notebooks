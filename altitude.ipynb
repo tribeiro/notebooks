{
 "cells": [
  {
   "cell_type": "markdown",
   "metadata": {},
   "source": [
    "Make histograms of survey observation altitude for all projects and for each one separately."
   ]
  },
  {
   "cell_type": "code",
   "execution_count": 1,
   "metadata": {
    "collapsed": true
   },
   "outputs": [],
   "source": [
    "import sys, os\n",
    "import numpy as np\n",
    "import numpy.ma as ma\n",
    "import matplotlib.pyplot as plt\n",
    "from astropy.io import ascii\n",
    "%matplotlib inline"
   ]
  },
  {
   "cell_type": "code",
   "execution_count": 2,
   "metadata": {
    "collapsed": true
   },
   "outputs": [],
   "source": [
    "import lsst.sims.maf.db as db\n",
    "import lsst.sims.maf.plots as plots\n",
    "import lsst.sims.maf.metrics as metrics\n",
    "import lsst.sims.maf.slicers as slicers\n",
    "import lsst.sims.maf.stackers as stackers\n",
    "import lsst.sims.maf.metricBundles as mb\n",
    "from lsst.sims.utils import Site\n",
    "from lsst.sims.utils import calcLmstLast"
   ]
  },
  {
   "cell_type": "code",
   "execution_count": 3,
   "metadata": {},
   "outputs": [],
   "source": [
    "o = db.OpsimDatabase(os.path.expanduser('~/Data/db/astro-lsst-01_2013.db'))"
   ]
  },
  {
   "cell_type": "code",
   "execution_count": 4,
   "metadata": {},
   "outputs": [
    {
     "name": "stdout",
     "output_type": "stream",
     "text": [
      "Querying database SummaryAllProps with no constraint for columns ['observationId', 'altitude'].\n",
      "Found 2364554 visits\n",
      "Running:  [0]\n",
      "Completed metric generation.\n",
      "Running reduce methods.\n",
      "Running summary statistics.\n",
      "Completed.\n"
     ]
    }
   ],
   "source": [
    "altitude_metric = metrics.PassMetric('altitude', metricName='Altitude')\n",
    "slicer_observation = slicers.OneDSlicer(sliceColName='observationId') \n",
    "sql = '' \n",
    "\n",
    "bundle_altitude = mb.MetricBundle(altitude_metric, slicer_observation, sql)\n",
    "bg = mb.MetricBundleGroup({0:bundle_altitude}, o)\n",
    "bg.runAll()"
   ]
  },
  {
   "cell_type": "code",
   "execution_count": 41,
   "metadata": {
    "collapsed": true
   },
   "outputs": [],
   "source": [
    "def get_altitudes(bundle):\n",
    "    alt_size = np.sum(np.array([len(i) if i is not None else 0 for i in bundle.metricValues.data]))\n",
    "    altitude = np.zeros(alt_size) # return value\n",
    "    bsize1 = len(bundle_altitude.metricValues.data)\n",
    "    start_index = 0\n",
    "\n",
    "    for i in range(bsize1):\n",
    "        if bundle_altitude.metricValues.data[i] is None:\n",
    "            continue\n",
    "        bsize2 = len(bundle_altitude.metricValues.data[i]['altitude'])\n",
    "        altitude[start_index:start_index+bsize2] += bundle_altitude.metricValues.data[i]['altitude']\n",
    "        start_index+=bsize2    \n",
    "    return altitude"
   ]
  },
  {
   "cell_type": "code",
   "execution_count": 6,
   "metadata": {
    "collapsed": true
   },
   "outputs": [],
   "source": [
    "altitude = get_altitudes(bundle_altitude)"
   ]
  },
  {
   "cell_type": "code",
   "execution_count": 7,
   "metadata": {},
   "outputs": [
    {
     "data": {
      "image/png": "[encoded data removed]",
      "text/plain": [
       "<matplotlib.figure.Figure at 0x157574898>"
      ]
     },
     "metadata": {},
     "output_type": "display_data"
    }
   ],
   "source": [
    "mean_altitude = np.mean(altitude)\n",
    "\n",
    "bsize = 2.\n",
    "bins = np.arange(20.,90.+bsize,bsize)-bsize/2.\n",
    "\n",
    "# Compute and plot the histogram\n",
    "hist_res = plt.hist(altitude, bins=bins)\n",
    "\n",
    "total = np.sum(hist_res[0])\n",
    "tier_levels = [63., 86., 95.]\n",
    "tier_n = np.zeros(len(tier_levels))\n",
    "ntier_n = np.zeros_like(tier_n,dtype=np.int)+len(hist_res[0])-1\n",
    "\n",
    "for i in range(len(tier_levels)):\n",
    "    for j in range(len(hist_res[0])):\n",
    "        if (tier_n[i]+hist_res[0][ntier_n[i]])*1.0 > total*tier_levels[i]/100.:\n",
    "            break\n",
    "        tier_n[i] += hist_res[0][ntier_n[i]]\n",
    "        ntier_n[i] -= 1 \n",
    "\n",
    "ylim = plt.ylim()\n",
    "\n",
    "plt.plot([mean_altitude,mean_altitude],ylim,'r:')\n",
    "arrow_pos = 160e3\n",
    "text_pos = 165e3\n",
    "\n",
    "for i in range(len(tier_levels)):\n",
    "    plt.plot([bins[ntier_n[i]],bins[ntier_n[i]]],ylim,'b:')\n",
    "    plt.arrow(bins[ntier_n[i]], arrow_pos, 2, 0, head_width=5e3, head_length=1.5, fc='b', ec='b')    \n",
    "    plt.annotate('%3.0f%%' % tier_levels[i],\n",
    "                xy=(bins[ntier_n[i]], text_pos), xycoords='data',color='b')\n",
    "\n",
    "    \n",
    "# print(bins[ntier_1])\n",
    "# plt.arrow(bins[ntier_1], 150e3, 2, 0, head_width=5e3, head_length=1.5, fc='b', ec='b')\n",
    "# # plt.plot([mean_altitude-std_altitude,mean_altitude-std_altitude],ylim,'r:')\n",
    "\n",
    "\n",
    "plt.title('Altitude histogram - All surveys')\n",
    "plt.ylabel('# of visits')\n",
    "plt.xlabel('Altitude [degrees]')\n",
    "plt.ylim(ylim)\n",
    "plt.savefig(os.path.expanduser('~/Data/db/astro-lsst-01_2013_all.png'))"
   ]
  },
  {
   "cell_type": "code",
   "execution_count": 8,
   "metadata": {},
   "outputs": [
    {
     "name": "stdout",
     "output_type": "stream",
     "text": [
      "Querying database SummaryAllProps with constraint proposalId = 3 for columns ['observationId', 'altitude']\n",
      "Found 2037211 visits\n",
      "Running:  [0]\n",
      "Completed metric generation.\n",
      "Running reduce methods.\n",
      "Running summary statistics.\n",
      "Completed.\n"
     ]
    }
   ],
   "source": [
    "altitude_metric = metrics.PassMetric('altitude', metricName='Altitude')\n",
    "slicer_observation = slicers.OneDSlicer(sliceColName='observationId') \n",
    "sql = 'proposalId = 3' # WFD \n",
    "\n",
    "bundle_altitude = mb.MetricBundle(altitude_metric, slicer_observation, sql)\n",
    "bg = mb.MetricBundleGroup({0:bundle_altitude}, o)\n",
    "bg.runAll()"
   ]
  },
  {
   "cell_type": "code",
   "execution_count": 9,
   "metadata": {
    "collapsed": true
   },
   "outputs": [],
   "source": [
    "altitude = get_altitudes(bundle_altitude)"
   ]
  },
  {
   "cell_type": "code",
   "execution_count": 10,
   "metadata": {},
   "outputs": [
    {
     "data": {
      "image/png": "[encoded data removed]",
      "text/plain": [
       "<matplotlib.figure.Figure at 0x1638134e0>"
      ]
     },
     "metadata": {},
     "output_type": "display_data"
    }
   ],
   "source": [
    "mean_altitude = np.mean(altitude)\n",
    "\n",
    "bsize = 2.\n",
    "bins = np.arange(20.,90.+bsize,bsize)-bsize/2.\n",
    "\n",
    "# Compute and plot the histogram\n",
    "hist_res = plt.hist(altitude, bins=bins)\n",
    "\n",
    "total = np.sum(hist_res[0])\n",
    "tier_levels = [63., 86., 95.]\n",
    "tier_n = np.zeros(len(tier_levels))\n",
    "ntier_n = np.zeros_like(tier_n,dtype=np.int)+len(hist_res[0])-1\n",
    "\n",
    "for i in range(len(tier_levels)):\n",
    "    for j in range(len(hist_res[0])):\n",
    "        if (tier_n[i]+hist_res[0][ntier_n[i]])*1.0 > total*tier_levels[i]/100.:\n",
    "            break\n",
    "        tier_n[i] += hist_res[0][ntier_n[i]]\n",
    "        ntier_n[i] -= 1 \n",
    "\n",
    "ylim = plt.ylim()\n",
    "\n",
    "plt.plot([mean_altitude,mean_altitude],ylim,'r:')\n",
    "arrow_pos = [150e3, 150e3, 130e3]\n",
    "text_pos =  [155e3, 155e3, 135e3]\n",
    "\n",
    "for i in range(len(tier_levels)):\n",
    "    plt.plot([bins[ntier_n[i]],bins[ntier_n[i]]],ylim,'b:')\n",
    "    plt.arrow(bins[ntier_n[i]], arrow_pos[i], 2, 0, head_width=5e3, head_length=1.5, fc='b', ec='b')    \n",
    "    plt.annotate('%3.0f%%' % tier_levels[i],\n",
    "                xy=(bins[ntier_n[i]], text_pos[i]), xycoords='data',color='b')\n",
    "\n",
    "    \n",
    "# print(bins[ntier_1])\n",
    "# plt.arrow(bins[ntier_1], 150e3, 2, 0, head_width=5e3, head_length=1.5, fc='b', ec='b')\n",
    "# # plt.plot([mean_altitude-std_altitude,mean_altitude-std_altitude],ylim,'r:')\n",
    "\n",
    "\n",
    "plt.title('Altitude histogram - WFD survey')\n",
    "plt.ylabel('# of visits')\n",
    "plt.xlabel('Altitude [degrees]')\n",
    "plt.ylim(ylim)\n",
    "plt.savefig(os.path.expanduser('~/Data/db/astro-lsst-01_2013_WFD.png'))"
   ]
  },
  {
   "cell_type": "code",
   "execution_count": 11,
   "metadata": {},
   "outputs": [
    {
     "name": "stdout",
     "output_type": "stream",
     "text": [
      "Querying database SummaryAllProps with constraint proposalId = 5 for columns ['observationId', 'altitude']\n",
      "Found 116804 visits\n",
      "Running:  [0]\n",
      "Completed metric generation.\n",
      "Running reduce methods.\n",
      "Running summary statistics.\n",
      "Completed.\n"
     ]
    }
   ],
   "source": [
    "altitude_metric = metrics.PassMetric('altitude', metricName='Altitude')\n",
    "slicer_observation = slicers.OneDSlicer(sliceColName='observationId') \n",
    "sql = 'proposalId = 5' # DeepDrilling\n",
    "\n",
    "bundle_altitude = mb.MetricBundle(altitude_metric, slicer_observation, sql)\n",
    "bg = mb.MetricBundleGroup({0:bundle_altitude}, o)\n",
    "bg.runAll()"
   ]
  },
  {
   "cell_type": "code",
   "execution_count": 12,
   "metadata": {
    "collapsed": true
   },
   "outputs": [],
   "source": [
    "altitude = get_altitudes(bundle_altitude)"
   ]
  },
  {
   "cell_type": "code",
   "execution_count": 13,
   "metadata": {},
   "outputs": [
    {
     "data": {
      "image/png": "[encoded data removed]",
      "text/plain": [
       "<matplotlib.figure.Figure at 0x16dfb6240>"
      ]
     },
     "metadata": {},
     "output_type": "display_data"
    }
   ],
   "source": [
    "mean_altitude = np.mean(altitude)\n",
    "\n",
    "bsize = 2.\n",
    "bins = np.arange(20.,90.+bsize,bsize)-bsize/2.\n",
    "\n",
    "# Compute and plot the histogram\n",
    "hist_res = plt.hist(altitude, bins=bins)\n",
    "\n",
    "total = np.sum(hist_res[0])\n",
    "tier_levels = [63., 86., 95.]\n",
    "tier_n = np.zeros(len(tier_levels))\n",
    "ntier_n = np.zeros_like(tier_n,dtype=np.int)+len(hist_res[0])-1\n",
    "\n",
    "for i in range(len(tier_levels)):\n",
    "    for j in range(len(hist_res[0])):\n",
    "        if (tier_n[i]+hist_res[0][ntier_n[i]])*1.0 > total*tier_levels[i]/100.:\n",
    "            break\n",
    "        tier_n[i] += hist_res[0][ntier_n[i]]\n",
    "        ntier_n[i] -= 1 \n",
    "\n",
    "ylim = plt.ylim()\n",
    "\n",
    "plt.plot([mean_altitude,mean_altitude],ylim,'r:')\n",
    "arrow_pos = [18e3, 18e3, 15e3]\n",
    "text_pos =  [18.5e3, 18.5e3, 15.5e3]\n",
    "\n",
    "for i in range(len(tier_levels)):\n",
    "    plt.plot([bins[ntier_n[i]],bins[ntier_n[i]]],ylim,'b:')\n",
    "    plt.arrow(bins[ntier_n[i]], arrow_pos[i], 2, 0, head_width=5e2, head_length=1.5, fc='b', ec='b')    \n",
    "    plt.annotate('%3.0f%%' % tier_levels[i],\n",
    "                xy=(bins[ntier_n[i]], text_pos[i]), xycoords='data',color='b')\n",
    "\n",
    "    \n",
    "# print(bins[ntier_1])\n",
    "# plt.arrow(bins[ntier_1], 150e3, 2, 0, head_width=5e3, head_length=1.5, fc='b', ec='b')\n",
    "# # plt.plot([mean_altitude-std_altitude,mean_altitude-std_altitude],ylim,'r:')\n",
    "\n",
    "plt.title('Altitude histogram - Deep Drilling survey')\n",
    "plt.ylabel('# of visits')\n",
    "plt.xlabel('Altitude [degrees]')\n",
    "plt.ylim(ylim)\n",
    "plt.savefig(os.path.expanduser('~/Data/db/astro-lsst-01_2013_dd.png'))"
   ]
  },
  {
   "cell_type": "code",
   "execution_count": 14,
   "metadata": {},
   "outputs": [
    {
     "name": "stdout",
     "output_type": "stream",
     "text": [
      "Querying database SummaryAllProps with constraint proposalId = 4 for columns ['observationId', 'altitude']\n",
      "Found 37818 visits\n",
      "Running:  [0]\n",
      "Completed metric generation.\n",
      "Running reduce methods.\n",
      "Running summary statistics.\n",
      "Completed.\n"
     ]
    }
   ],
   "source": [
    "altitude_metric = metrics.PassMetric('altitude', metricName='Altitude')\n",
    "slicer_observation = slicers.OneDSlicer(sliceColName='observationId') \n",
    "sql = 'proposalId = 4' # Galactic plane\n",
    "\n",
    "bundle_altitude = mb.MetricBundle(altitude_metric, slicer_observation, sql)\n",
    "bg = mb.MetricBundleGroup({0:bundle_altitude}, o)\n",
    "bg.runAll()"
   ]
  },
  {
   "cell_type": "code",
   "execution_count": 15,
   "metadata": {
    "collapsed": true
   },
   "outputs": [],
   "source": [
    "altitude = get_altitudes(bundle_altitude)"
   ]
  },
  {
   "cell_type": "code",
   "execution_count": 16,
   "metadata": {},
   "outputs": [
    {
     "data": {
      "image/png": "[encoded data removed]",
      "text/plain": [
       "<matplotlib.figure.Figure at 0x16dfdf828>"
      ]
     },
     "metadata": {},
     "output_type": "display_data"
    }
   ],
   "source": [
    "mean_altitude = np.mean(altitude)\n",
    "\n",
    "bsize = 2.\n",
    "bins = np.arange(20.,90.+bsize,bsize)-bsize/2.\n",
    "\n",
    "# Compute and plot the histogram\n",
    "hist_res = plt.hist(altitude, bins=bins)\n",
    "\n",
    "total = np.sum(hist_res[0])\n",
    "tier_levels = [63., 86., 95.]\n",
    "tier_n = np.zeros(len(tier_levels))\n",
    "ntier_n = np.zeros_like(tier_n,dtype=np.int)+len(hist_res[0])-1\n",
    "\n",
    "for i in range(len(tier_levels)):\n",
    "    for j in range(len(hist_res[0])):\n",
    "        if (tier_n[i]+hist_res[0][ntier_n[i]])*1.0 > total*tier_levels[i]/100.:\n",
    "            break\n",
    "        tier_n[i] += hist_res[0][ntier_n[i]]\n",
    "        ntier_n[i] -= 1 \n",
    "\n",
    "ylim = plt.ylim()\n",
    "\n",
    "plt.plot([mean_altitude,mean_altitude],ylim,'r:')\n",
    "arrow_pos = [1.5e3, 1.5e3, 1.5e3]\n",
    "text_pos =  [1.55e3, 1.55e3, 1.55e3]\n",
    "\n",
    "for i in range(len(tier_levels)):\n",
    "    plt.plot([bins[ntier_n[i]],bins[ntier_n[i]]],ylim,'b:')\n",
    "    plt.arrow(bins[ntier_n[i]], arrow_pos[i], 2, 0, head_width=5e1, head_length=1.5, fc='b', ec='b')    \n",
    "    plt.annotate('%3.0f%%' % tier_levels[i],\n",
    "                xy=(bins[ntier_n[i]], text_pos[i]), xycoords='data',color='b')\n",
    "\n",
    "    \n",
    "# print(bins[ntier_1])\n",
    "# plt.arrow(bins[ntier_1], 150e3, 2, 0, head_width=5e3, head_length=1.5, fc='b', ec='b')\n",
    "# # plt.plot([mean_altitude-std_altitude,mean_altitude-std_altitude],ylim,'r:')\n",
    "\n",
    "plt.title('Altitude histogram - Galactic plane survey')\n",
    "plt.ylabel('# of visits')\n",
    "plt.xlabel('Altitude [degrees]')\n",
    "plt.ylim(ylim)\n",
    "plt.savefig(os.path.expanduser('~/Data/db/astro-lsst-01_2013_gp.png'))"
   ]
  },
  {
   "cell_type": "code",
   "execution_count": 17,
   "metadata": {},
   "outputs": [
    {
     "name": "stdout",
     "output_type": "stream",
     "text": [
      "Querying database SummaryAllProps with constraint proposalId = 1 for columns ['observationId', 'altitude']\n",
      "Found 127187 visits\n",
      "Running:  [0]\n",
      "Completed metric generation.\n",
      "Running reduce methods.\n",
      "Running summary statistics.\n",
      "Completed.\n"
     ]
    }
   ],
   "source": [
    "altitude_metric = metrics.PassMetric('altitude', metricName='Altitude')\n",
    "slicer_observation = slicers.OneDSlicer(sliceColName='observationId') \n",
    "sql = 'proposalId = 1' # NorthEclipticSpur\n",
    "\n",
    "bundle_altitude = mb.MetricBundle(altitude_metric, slicer_observation, sql)\n",
    "bg = mb.MetricBundleGroup({0:bundle_altitude}, o)\n",
    "bg.runAll()"
   ]
  },
  {
   "cell_type": "code",
   "execution_count": 18,
   "metadata": {
    "collapsed": true
   },
   "outputs": [],
   "source": [
    "altitude = get_altitudes(bundle_altitude)"
   ]
  },
  {
   "cell_type": "code",
   "execution_count": 19,
   "metadata": {},
   "outputs": [
    {
     "data": {
      "image/png": "[encoded data removed]",
      "text/plain": [
       "<matplotlib.figure.Figure at 0x157579978>"
      ]
     },
     "metadata": {},
     "output_type": "display_data"
    }
   ],
   "source": [
    "mean_altitude = np.mean(altitude)\n",
    "\n",
    "bsize = 2.\n",
    "bins = np.arange(20.,90.+bsize,bsize)-bsize/2.\n",
    "\n",
    "# Compute and plot the histogram\n",
    "hist_res = plt.hist(altitude, bins=bins)\n",
    "\n",
    "total = np.sum(hist_res[0])\n",
    "tier_levels = [63., 86., 95.]\n",
    "tier_n = np.zeros(len(tier_levels))\n",
    "ntier_n = np.zeros_like(tier_n,dtype=np.int)+len(hist_res[0])-1\n",
    "\n",
    "for i in range(len(tier_levels)):\n",
    "    for j in range(len(hist_res[0])):\n",
    "        if (tier_n[i]+hist_res[0][ntier_n[i]])*1.0 > total*tier_levels[i]/100.:\n",
    "            break\n",
    "        tier_n[i] += hist_res[0][ntier_n[i]]\n",
    "        ntier_n[i] -= 1 \n",
    "\n",
    "ylim = plt.ylim()\n",
    "\n",
    "plt.plot([mean_altitude,mean_altitude],ylim,'r:')\n",
    "arrow_pos = [11e3, 11e3, 9.5e3]\n",
    "text_pos =  [11.5e3, 11.5e3, 10e3]\n",
    "\n",
    "for i in range(len(tier_levels)):\n",
    "    plt.plot([bins[ntier_n[i]],bins[ntier_n[i]]],ylim,'b:')\n",
    "    plt.arrow(bins[ntier_n[i]], arrow_pos[i], 2, 0, head_width=3e2, head_length=1.5, fc='b', ec='b')    \n",
    "    plt.annotate('%3.0f%%' % tier_levels[i],\n",
    "                xy=(bins[ntier_n[i]], text_pos[i]), xycoords='data',color='b')\n",
    "\n",
    "    \n",
    "# print(bins[ntier_1])\n",
    "# plt.arrow(bins[ntier_1], 150e3, 2, 0, head_width=5e3, head_length=1.5, fc='b', ec='b')\n",
    "# # plt.plot([mean_altitude-std_altitude,mean_altitude-std_altitude],ylim,'r:')\n",
    "\n",
    "plt.title('Altitude histogram - North Ecliptic Spur survey')\n",
    "plt.ylabel('# of visits')\n",
    "plt.xlabel('Altitude [degrees]')\n",
    "plt.ylim(ylim)\n",
    "plt.savefig(os.path.expanduser('~/Data/db/astro-lsst-01_2013_ngs.png'))"
   ]
  },
  {
   "cell_type": "code",
   "execution_count": 20,
   "metadata": {},
   "outputs": [
    {
     "name": "stdout",
     "output_type": "stream",
     "text": [
      "Querying database SummaryAllProps with constraint proposalId = 2 for columns ['observationId', 'altitude']\n",
      "Found 46133 visits\n",
      "Running:  [0]\n",
      "Completed metric generation.\n",
      "Running reduce methods.\n",
      "Running summary statistics.\n",
      "Completed.\n"
     ]
    }
   ],
   "source": [
    "altitude_metric = metrics.PassMetric('altitude', metricName='Altitude')\n",
    "slicer_observation = slicers.OneDSlicer(sliceColName='observationId') \n",
    "sql = 'proposalId = 2' # SouthCelestialPole\n",
    "\n",
    "bundle_altitude = mb.MetricBundle(altitude_metric, slicer_observation, sql)\n",
    "bg = mb.MetricBundleGroup({0:bundle_altitude}, o)\n",
    "bg.runAll()"
   ]
  },
  {
   "cell_type": "code",
   "execution_count": 21,
   "metadata": {
    "collapsed": true
   },
   "outputs": [],
   "source": [
    "altitude = get_altitudes(bundle_altitude)"
   ]
  },
  {
   "cell_type": "code",
   "execution_count": 22,
   "metadata": {},
   "outputs": [
    {
     "data": {
      "image/png": "[encoded data removed]",
      "text/plain": [
       "<matplotlib.figure.Figure at 0x15b476e80>"
      ]
     },
     "metadata": {},
     "output_type": "display_data"
    }
   ],
   "source": [
    "mean_altitude = np.mean(altitude)\n",
    "\n",
    "bsize = 2.\n",
    "bins = np.arange(20.,90.+bsize,bsize)-bsize/2.\n",
    "\n",
    "# Compute and plot the histogram\n",
    "hist_res = plt.hist(altitude, bins=bins)\n",
    "\n",
    "total = np.sum(hist_res[0])\n",
    "tier_levels = [63., 86., 95.]\n",
    "tier_n = np.zeros(len(tier_levels))\n",
    "ntier_n = np.zeros_like(tier_n,dtype=np.int)+len(hist_res[0])-1\n",
    "\n",
    "for i in range(len(tier_levels)):\n",
    "    for j in range(len(hist_res[0])):\n",
    "        if (tier_n[i]+hist_res[0][ntier_n[i]])*1.0 > total*tier_levels[i]/100.:\n",
    "            break\n",
    "        tier_n[i] += hist_res[0][ntier_n[i]]\n",
    "        ntier_n[i] -= 1 \n",
    "\n",
    "ylim = plt.ylim()\n",
    "\n",
    "plt.plot([mean_altitude,mean_altitude],ylim,'r:')\n",
    "arrow_pos = [5.5e3, 5.5e3, 4.5e3]\n",
    "text_pos =  [5.0e3, 5.0e3, 4.0e3]\n",
    "\n",
    "for i in range(len(tier_levels)):\n",
    "    plt.plot([bins[ntier_n[i]],bins[ntier_n[i]]],ylim,'b:')\n",
    "    plt.arrow(bins[ntier_n[i]], arrow_pos[i], 2, 0, head_width=1.5e2, head_length=1.5, fc='b', ec='b')    \n",
    "    plt.annotate('%3.0f%%' % tier_levels[i],\n",
    "                xy=(bins[ntier_n[i]], text_pos[i]), xycoords='data',color='b')\n",
    "\n",
    "    \n",
    "# print(bins[ntier_1])\n",
    "# plt.arrow(bins[ntier_1], 150e3, 2, 0, head_width=5e3, head_length=1.5, fc='b', ec='b')\n",
    "# # plt.plot([mean_altitude-std_altitude,mean_altitude-std_altitude],ylim,'r:')\n",
    "\n",
    "plt.title('Altitude histogram - South Celestial Pole survey')\n",
    "plt.ylabel('# of visits')\n",
    "plt.xlabel('Altitude [degrees]')\n",
    "plt.ylim(ylim)\n",
    "plt.savefig(os.path.expanduser('~/Data/db/astro-lsst-01_2013_scp.png'))"
   ]
  },
  {
   "cell_type": "code",
   "execution_count": 58,
   "metadata": {},
   "outputs": [
    {
     "name": "stdout",
     "output_type": "stream",
     "text": [
      "Querying database SummaryAllProps with constraint (proposalId = 5) and (fieldId = 2786) for columns ['observationId', 'altitude']\n",
      "Found 16698 visits\n",
      "Running:  [0]\n",
      "Completed metric generation.\n",
      "Running reduce methods.\n",
      "Running summary statistics.\n",
      "Completed.\n"
     ]
    }
   ],
   "source": [
    "altitude_metric = metrics.PassMetric('altitude', metricName='Altitude')\n",
    "slicer_observation = slicers.OneDSlicer(sliceColName='observationId') \n",
    "sql = '(proposalId = 5) and (fieldId = %i)' # DeepDrilling\n",
    "dd_fields = [290, 744, 1427, 2412, 2786]\n",
    "dd_index = 4\n",
    "\n",
    "bundle_altitude = mb.MetricBundle(altitude_metric, slicer_observation, sql%dd_fields[dd_index])\n",
    "bg = mb.MetricBundleGroup({0:bundle_altitude}, o)\n",
    "bg.runAll()"
   ]
  },
  {
   "cell_type": "code",
   "execution_count": 59,
   "metadata": {},
   "outputs": [],
   "source": [
    "# print(bundle_altitude.metricValues)\n",
    "altitude = get_altitudes(bundle_altitude)"
   ]
  },
  {
   "cell_type": "code",
   "execution_count": 60,
   "metadata": {},
   "outputs": [
    {
     "data": {
      "text/plain": [
       "(0.0, 9656.8500000000004)"
      ]
     },
     "execution_count": 60,
     "metadata": {},
     "output_type": "execute_result"
    },
    {
     "data": {
      "image/png": "[encoded data removed]",
      "text/plain": [
       "<matplotlib.figure.Figure at 0x15532bd68>"
      ]
     },
     "metadata": {},
     "output_type": "display_data"
    }
   ],
   "source": [
    "mean_altitude = np.mean(altitude)\n",
    "\n",
    "bsize = 2.\n",
    "bins = np.arange(20.,90.+bsize,bsize)-bsize/2.\n",
    "\n",
    "# Compute and plot the histogram\n",
    "hist_res = plt.hist(altitude, bins=bins)\n",
    "\n",
    "total = np.sum(hist_res[0])\n",
    "tier_levels = [63., 86., 95.]\n",
    "tier_n = np.zeros(len(tier_levels))\n",
    "ntier_n = np.zeros_like(tier_n,dtype=np.int)+len(hist_res[0])-1\n",
    "\n",
    "for i in range(len(tier_levels)):\n",
    "    for j in range(len(hist_res[0])):\n",
    "        if (tier_n[i]+hist_res[0][ntier_n[i]])*1.0 > total*tier_levels[i]/100.:\n",
    "            break\n",
    "        tier_n[i] += hist_res[0][ntier_n[i]]\n",
    "        ntier_n[i] -= 1 \n",
    "\n",
    "ylim = plt.ylim()\n",
    "\n",
    "plt.plot([mean_altitude,mean_altitude],ylim,'r:')\n",
    "arrow_pos = [5.5e3, 5.5e3, 4.5e3]\n",
    "text_pos =  [5.0e3, 5.0e3, 4.0e3]\n",
    "\n",
    "# for i in range(len(tier_levels)):\n",
    "#     plt.plot([bins[ntier_n[i]],bins[ntier_n[i]]],ylim,'b:')\n",
    "#     plt.arrow(bins[ntier_n[i]], arrow_pos[i], 2, 0, head_width=1.5e2, head_length=1.5, fc='b', ec='b')    \n",
    "#     plt.annotate('%3.0f%%' % tier_levels[i],\n",
    "#                 xy=(bins[ntier_n[i]], text_pos[i]), xycoords='data',color='b')\n",
    "\n",
    "    \n",
    "# print(bins[ntier_1])\n",
    "# plt.arrow(bins[ntier_1], 150e3, 2, 0, head_width=5e3, head_length=1.5, fc='b', ec='b')\n",
    "# # plt.plot([mean_altitude-std_altitude,mean_altitude-std_altitude],ylim,'r:')\n",
    "\n",
    "plt.title('Altitude histogram - DD Field %i' % dd_fields[dd_index])\n",
    "plt.ylabel('# of visits')\n",
    "plt.xlabel('Altitude [degrees]')\n",
    "plt.ylim(ylim)\n",
    "# plt.savefig(os.path.expanduser('~/Data/db/astro-lsst-01_2013_scp.png'))"
   ]
  },
  {
   "cell_type": "markdown",
   "metadata": {},
   "source": [
    "Let's try making some cuts on Declination... "
   ]
  },
  {
   "cell_type": "code",
   "execution_count": 71,
   "metadata": {},
   "outputs": [
    {
     "name": "stdout",
     "output_type": "stream",
     "text": [
      "Querying database SummaryAllProps with constraint (proposalId = 3) and (fieldDec > -63.0 and fieldDec < -58.0) for columns ['observationId', 'altitude']\n",
      "Found 70867 visits\n",
      "Running:  [0]\n",
      "Completed metric generation.\n",
      "Running reduce methods.\n",
      "Running summary statistics.\n",
      "Completed.\n"
     ]
    }
   ],
   "source": [
    "altitude_metric = metrics.PassMetric('altitude', metricName='Altitude')\n",
    "slicer_observation = slicers.OneDSlicer(sliceColName='observationId') \n",
    "min_dec, max_dec = -63., -58.,\n",
    "sql = '(proposalId = 3) and (fieldDec > %.1f and fieldDec < %.1f)' % (min_dec, max_dec) # WFD \n",
    "\n",
    "bundle_altitude = mb.MetricBundle(altitude_metric, slicer_observation, sql)\n",
    "bg = mb.MetricBundleGroup({0:bundle_altitude}, o)\n",
    "bg.runAll()"
   ]
  },
  {
   "cell_type": "code",
   "execution_count": 72,
   "metadata": {
    "collapsed": true
   },
   "outputs": [],
   "source": [
    "altitude = get_altitudes(bundle_altitude)"
   ]
  },
  {
   "cell_type": "code",
   "execution_count": 73,
   "metadata": {},
   "outputs": [
    {
     "data": {
      "text/plain": [
       "(0.0, 30899.400000000001)"
      ]
     },
     "execution_count": 73,
     "metadata": {},
     "output_type": "execute_result"
    },
    {
     "data": {
      "image/png": "[encoded data removed]",
      "text/plain": [
       "<matplotlib.figure.Figure at 0x16b90dc50>"
      ]
     },
     "metadata": {},
     "output_type": "display_data"
    }
   ],
   "source": [
    "mean_altitude = np.mean(altitude)\n",
    "\n",
    "bsize = 2.\n",
    "bins = np.arange(20.,90.+bsize,bsize)-bsize/2.\n",
    "\n",
    "# Compute and plot the histogram\n",
    "hist_res = plt.hist(altitude, bins=bins)\n",
    "\n",
    "total = np.sum(hist_res[0])\n",
    "tier_levels = [63., 86., 95.]\n",
    "tier_n = np.zeros(len(tier_levels))\n",
    "ntier_n = np.zeros_like(tier_n,dtype=np.int)+len(hist_res[0])-1\n",
    "\n",
    "for i in range(len(tier_levels)):\n",
    "    for j in range(len(hist_res[0])):\n",
    "        if (tier_n[i]+hist_res[0][ntier_n[i]])*1.0 > total*tier_levels[i]/100.:\n",
    "            break\n",
    "        tier_n[i] += hist_res[0][ntier_n[i]]\n",
    "        ntier_n[i] -= 1 \n",
    "\n",
    "ylim = plt.ylim()\n",
    "\n",
    "plt.plot([mean_altitude,mean_altitude],ylim,'r:')\n",
    "arrow_pos = [5.5e3, 5.5e3, 4.5e3]\n",
    "text_pos =  [5.0e3, 5.0e3, 4.0e3]\n",
    "\n",
    "# for i in range(len(tier_levels)):\n",
    "#     plt.plot([bins[ntier_n[i]],bins[ntier_n[i]]],ylim,'b:')\n",
    "#     plt.arrow(bins[ntier_n[i]], arrow_pos[i], 2, 0, head_width=1.5e2, head_length=1.5, fc='b', ec='b')    \n",
    "#     plt.annotate('%3.0f%%' % tier_levels[i],\n",
    "#                 xy=(bins[ntier_n[i]], text_pos[i]), xycoords='data',color='b')\n",
    "\n",
    "    \n",
    "# print(bins[ntier_1])\n",
    "# plt.arrow(bins[ntier_1], 150e3, 2, 0, head_width=5e3, head_length=1.5, fc='b', ec='b')\n",
    "# # plt.plot([mean_altitude-std_altitude,mean_altitude-std_altitude],ylim,'r:')\n",
    "\n",
    "plt.title('Altitude histogram - WFD Dec(%.1f:%.1f)' % (min_dec, max_dec))\n",
    "plt.ylabel('# of visits')\n",
    "plt.xlabel('Altitude [degrees]')\n",
    "plt.ylim(ylim)\n",
    "# plt.savefig(os.path.expanduser('~/Data/db/astro-lsst-01_2013_scp.png'))"
   ]
  },
  {
   "cell_type": "code",
   "execution_count": null,
   "metadata": {
    "collapsed": true
   },
   "outputs": [],
   "source": []
  }
 ],
 "metadata": {
  "kernelspec": {
   "display_name": "Python 3",
   "language": "python",
   "name": "python3"
  },
  "language_info": {
   "codemirror_mode": {
    "name": "ipython",
    "version": 3
   },
   "file_extension": ".py",
   "mimetype": "text/x-python",
   "name": "python",
   "nbconvert_exporter": "python",
   "pygments_lexer": "ipython3",
   "version": "3.6.2"
  }
 },
 "nbformat": 4,
 "nbformat_minor": 2
}
